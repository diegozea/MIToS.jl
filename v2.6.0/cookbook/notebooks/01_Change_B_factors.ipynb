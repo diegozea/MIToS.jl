{
 "cells": [
  {
   "cell_type": "markdown",
   "source": [
    "# Change B-factors\n",
    "\n",
    "\n",
    "\n",
    "## Problem description\n",
    "\n",
    "It is a common practice to change the B-factors of a PDB to store information\n",
    "about atoms or residues to be used by other programs. In particular, values\n",
    "in the B-factor column can be easily used to colour residues with\n",
    "[PyMOL](https://pymolwiki.org/index.php/Color#B-Factors) or\n",
    "[Chimera](https://www.cgl.ucsf.edu/chimera/docs/UsersGuide/tutorials/bfactor.html).\n",
    "\n",
    "We cannot simply assign a new value to the `B` field of a `PDBAtom` because\n",
    "this type is immutable. However, we can make use of the `@set` macro of the\n",
    "[Setfield](https://github.com/jw3126/Setfield.jl) package to create a new\n",
    "`PDBAtom` with a different B-factor value.\n",
    "\n",
    "In a PDB file, B-factors are stored from the column 61 to 66. Therefore, new\n",
    "B-factors should be a `String` with 6 or fewer characters, normally using two\n",
    "characters for decimal values. We can use `fmt` and `FormatSpec` from the\n",
    "[Formatting](https://github.com/JuliaIO/Formatting.jl) package to create a\n",
    "proper B-factor string.\n",
    "\n",
    "## MIToS solution\n",
    "\n",
    "For this example we are going to use the small heat shock protein AgsA from\n",
    "*Salmonella typhimurium* (PDB code: *4ZJ9*) available in MIToS docs data:"
   ],
   "metadata": {}
  },
  {
   "outputs": [],
   "cell_type": "code",
   "source": [
    "using MIToS\n",
    "pdbfile = abspath(pathof(MIToS), \"..\", \"..\", \"docs\", \"data\", \"4zj9.pdb\")"
   ],
   "metadata": {},
   "execution_count": null
  },
  {
   "cell_type": "markdown",
   "source": [
    "First, we need to read the PDB file using the `MIToS.PDB` module:"
   ],
   "metadata": {}
  },
  {
   "outputs": [],
   "cell_type": "code",
   "source": [
    "using MIToS.PDB\n",
    "pdb_residues = read(pdbfile, PDBFile)"
   ],
   "metadata": {},
   "execution_count": null
  },
  {
   "cell_type": "markdown",
   "source": [
    "For this example, we are going to replace the B-factor of the alpha-carbons\n",
    "by the residue hydrophobicity according to the hydrophobicity scale of\n",
    "[Kyte and Doolittle](https://doi.org/10.1016/0022-2836(82)90515-0) used by\n",
    "[Chimera](https://www.cgl.ucsf.edu/chimera/docs/UsersGuide/midas/hydrophob.html):"
   ],
   "metadata": {}
  },
  {
   "outputs": [],
   "cell_type": "code",
   "source": [
    "hydrophobicity = Dict(\n",
    "\t\"ILE\" => 4.5,\n",
    "\t\"VAL\" => 4.2,\n",
    "\t\"LEU\" => 3.8,\n",
    "\t\"PHE\" => 2.8,\n",
    "\t\"CYS\" => 2.5,\n",
    "\t\"MET\" => 1.9,\n",
    "\t\"ALA\" => 1.8,\n",
    "\t\"GLY\" => -0.4,\n",
    "\t\"THR\" => -0.7,\n",
    "\t\"SER\" => -0.8,\n",
    "\t\"TRP\" => -0.9,\n",
    "\t\"TYR\" => -1.3,\n",
    "\t\"PRO\" => -1.6,\n",
    "\t\"HIS\" => -3.2,\n",
    "\t\"GLU\" => -3.5,\n",
    "\t\"GLN\" => -3.5,\n",
    "\t\"ASP\" => -3.5,\n",
    "\t\"ASN\" => -3.5,\n",
    "\t\"LYS\" => -3.9,\n",
    "\t\"ARG\" => -4.5 )"
   ],
   "metadata": {},
   "execution_count": null
  },
  {
   "cell_type": "markdown",
   "source": [
    "First, we define a helper function using `Formatting` to create a proper\n",
    "B-factor string with the PDB format; 6 characters and 2 digits after the\n",
    "decimal point.\n",
    "The [PDB format description](https://www.wwpdb.org/documentation/file-format-content/format23/sect9.html)\n",
    "describe this field as:\n",
    "```\n",
    "COLUMNS      DATA TYPE        FIELD      DEFINITION\n",
    "------------------------------------------------------\n",
    "61 - 66      Real(6.2)        tempFactor Temperature factor.\n",
    "```"
   ],
   "metadata": {}
  },
  {
   "outputs": [],
   "cell_type": "code",
   "source": [
    "using Formatting\n",
    "\n",
    "\"Return value as a string with the B factor format described in PDB.\"\n",
    "format_b_factor(value) = fmt(FormatSpec(\"6.2f\"), value) # e.g. 1.5 -> \"  1.50\""
   ],
   "metadata": {},
   "execution_count": null
  },
  {
   "cell_type": "markdown",
   "source": [
    "Then, where are using that helper function to define a function that returns\n",
    "a new `PDBAtom` by changing the `B` factor field using the `Setfield` package."
   ],
   "metadata": {}
  },
  {
   "outputs": [],
   "cell_type": "code",
   "source": [
    "using Setfield\n",
    "\n",
    "\"Return a new PDBAtom with the B-factor changed to value.\"\n",
    "function change_b_factor(atom::PDBAtom, value)\n",
    "\tb_factor_string = format_b_factor(value)\n",
    "\tb_factor_string = strip(b_factor_string) # e.g. \"  1.50\" -> \"1.50\"\n",
    "\tif length(b_factor_string) > 6\n",
    "\t\tthrow(ErrorException(\"$b_factor_string has more than 6 characters.\"))\n",
    "\tend\n",
    "\t@set atom.B = b_factor_string\n",
    "end"
   ],
   "metadata": {},
   "execution_count": null
  },
  {
   "cell_type": "markdown",
   "source": [
    "Now, we can use the `change_b_factor` function to change the B-factor of each\n",
    "`\"CA\"` atom:"
   ],
   "metadata": {}
  },
  {
   "outputs": [],
   "cell_type": "code",
   "source": [
    "for res in pdb_residues\n",
    "\tfor i in eachindex(res.atoms)\n",
    "\t\tatom = res.atoms[i]\n",
    "\t\tif atom.atom == \"CA\"\n",
    "\t\t\tres.atoms[i] = change_b_factor(atom, hydrophobicity[res.id.name])\n",
    "\t\tend\n",
    "\tend\n",
    "end"
   ],
   "metadata": {},
   "execution_count": null
  },
  {
   "cell_type": "markdown",
   "source": [
    "Finally, we can save the changed residues in a new PDB file.\n",
    "\n",
    "```julia\n",
    "write(\"4zj9_hydrophobicity.pdb\", pdb_residues, PDBFile)\n",
    "```\n",
    "\n",
    "## Discussion\n",
    "\n",
    "While we have focused on changing the B-factor field of a `PDBAtom`, you can\n",
    "use the same approach to change other fields. However, if you want to change\n",
    "atom coordinates, it is better to use the `change_coordinates` function from\n",
    "the PDB module of MIToS.\n",
    "\n",
    "MIToS atoms and residues generally stores the string present in the input\n",
    "file without surrounding spaces. You can use the `Formatting` module to\n",
    "create these strings and `strip` to get rid of the spaces. You can see the\n",
    "[PDB format description](https://www.wwpdb.org/documentation/file-format-content/format23/sect9.html)\n",
    "to know what is the format of the expected string or see the\n",
    "[MIToS PDB print source code](https://github.com/diegozea/MIToS.jl/blob/master/src/PDB/PDBParser.j)\n",
    "to get a quick idea."
   ],
   "metadata": {}
  },
  {
   "cell_type": "markdown",
   "source": [
    "---\n",
    "\n",
    "*This notebook was generated using [Literate.jl](https://github.com/fredrikekre/Literate.jl).*"
   ],
   "metadata": {}
  }
 ],
 "nbformat_minor": 3,
 "metadata": {
  "language_info": {
   "file_extension": ".jl",
   "mimetype": "application/julia",
   "name": "julia",
   "version": "1.4.2"
  },
  "kernelspec": {
   "name": "julia-1.4",
   "display_name": "Julia 1.4.2",
   "language": "julia"
  }
 },
 "nbformat": 4
}
