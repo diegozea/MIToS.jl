{
 "cells": [
  {
   "cell_type": "markdown",
   "source": [
    "# Linking structural and evolutionary information\n",
    "\n",
    "\n",
    "\n",
    "## Problem description\n",
    "\n",
    "It is a very common task to map sequence to structure residue number. For\n",
    "example, to link structural information coming from *PDB* and evolutionary\n",
    "information calculated from multiple sequence alignments.\n",
    "\n",
    "The naive way of mapping sequence and structure is to perform global pairwise\n",
    "alignment between the sequence and the *PDB* sequence (using the residues in\n",
    "*ATOM*). The problem with this approach is that the sequences can have\n",
    "missing regions and standard pairwise alignment algorithms often yield\n",
    "incorrect assignations around those regions\n",
    "[(Velankar et.al. 2013)](https://doi.org/10.1093/nar/gks1258). This is\n",
    "particularly important when aligning *PDB* sequences, that can have missing\n",
    "residues, and sequences coming from multiple sequence alignments, that can be\n",
    "incomplete or have unaligned regions (e.g. insert states).\n",
    "\n",
    "The [SIFTS](https://www.ebi.ac.uk/pdbe/docs/sifts/index.html)\n",
    "(Structure Integration with Function, Taxonomy and Sequences) database solves\n",
    "this problem and provides residue level mapping between PDB and other\n",
    "databases (e.g. *UniProt* and *Pfam*).\n",
    "\n",
    "The `SIFTS` module of MIToS has functions to access this residue level mapping\n",
    "between *PDB* and other databases. Also, MIToS keeps track of the residue\n",
    "number of each residue in a multiple sequence alignment (MSA) using its annotations.\n",
    "Both things together, allow the correct mapping of sequence and structure\n",
    "without performing error-prone pairwise alignments.\n",
    "\n",
    "Particular solutions depend on problem details, here we show some common ways\n",
    "to use MIToS and *SIFTS* to map evolutionary information calculated in an MSA\n",
    "(e.g. entropy) with structural information (e.g. B-factors).\n",
    "\n",
    "## PDB and Pfam alignment mapping\n",
    "\n",
    "This is the easiest problem to solve with the\n",
    "MIToS `Pfam` module because *SIFTS* already has a residue\n",
    "level mapping between *PDB* and *Pfam*.\n",
    "\n",
    "For this example, we are going to map the columns in the multiple sequence\n",
    "alignment of the *PF09645* Pfam family and the residues in the chain *A* from\n",
    "the *2VQC* *PDB* file. The needed files are available in the MIToS test suite:"
   ],
   "metadata": {}
  },
  {
   "outputs": [],
   "cell_type": "code",
   "source": [
    "using MIToS\n",
    "pdb_file   = abspath(pathof(MIToS), \"..\", \"..\", \"test\", \"data\", \"2VQC.pdb\")\n",
    "pfam_file  = abspath(pathof(MIToS), \"..\", \"..\", \"test\", \"data\", \"PF09645_full.stockholm\")\n",
    "sifts_file = abspath(pathof(MIToS), \"..\", \"..\", \"test\", \"data\", \"2vqc.xml.gz\")"
   ],
   "metadata": {},
   "execution_count": null
  },
  {
   "cell_type": "markdown",
   "source": [
    "You can also use `downloadpdb` from `MIToS.PDB`, `downloadpfam` from\n",
    "`MIToS.Pfam` and `downloadsifts` from `MIToS.SIFTS` to get the corresponding\n",
    "files from those databases.\n",
    "\n",
    "It is important to read the Pfam MSA file using `generatemapping=true` and\n",
    "`useidcoordinates=true` because that allows keeping track of the residue\n",
    "number using the MSA annotations."
   ],
   "metadata": {}
  },
  {
   "outputs": [],
   "cell_type": "code",
   "source": [
    "using MIToS.Pfam\n",
    "msa = read(pfam_file, Stockholm, generatemapping=true, useidcoordinates=true)"
   ],
   "metadata": {},
   "execution_count": null
  },
  {
   "cell_type": "markdown",
   "source": [
    "First, we need to know what is the sequence in the MSA that correspond to the\n",
    "PDB we want to link. Luckily, Pfam Stockholm files store the mapping between\n",
    "sequences and PDB chains. You can access that mapping using the `getseq2pdb`\n",
    "function from `MIToS.Pfam`"
   ],
   "metadata": {}
  },
  {
   "outputs": [],
   "cell_type": "code",
   "source": [
    "seq2pdbs = getseq2pdb(msa)"
   ],
   "metadata": {},
   "execution_count": null
  },
  {
   "cell_type": "markdown",
   "source": [
    "The returned dictionary gives you all the PDB chains associated with a\n",
    "determined sequence in the MSA. But, in this case, we want to go in the other\n",
    "direction to find all the sequences associated with a determined *PDB* chain.\n",
    "We are going to use a list comprehension because it is possible for a single\n",
    "chain to be associated with more than one sequence in the *Pfam* MSA (e.g.\n",
    "domain repeats)."
   ],
   "metadata": {}
  },
  {
   "outputs": [],
   "cell_type": "code",
   "source": [
    "pdb_code  = \"2VQC\"\n",
    "pdb_chain = \"A\"\n",
    "seq_ids = [ seq for (seq, pdbs) in seq2pdbs if (pdb_code, pdb_chain) in pdbs ]"
   ],
   "metadata": {},
   "execution_count": null
  },
  {
   "cell_type": "markdown",
   "source": [
    "In this example, we are going to use the only sequence we found for the *A*\n",
    "of *2VQC*."
   ],
   "metadata": {}
  },
  {
   "outputs": [],
   "cell_type": "code",
   "source": [
    "seq_id = seq_ids[1]"
   ],
   "metadata": {},
   "execution_count": null
  },
  {
   "cell_type": "markdown",
   "source": [
    "Finally, we can use the `msacolumn2pdbresidue` function from the Pfam module\n",
    "to get a dictionary from the MSA column index to the *PDB* residue number:"
   ],
   "metadata": {}
  },
  {
   "outputs": [],
   "cell_type": "code",
   "source": [
    "pfam_id = \"PF09645\"\n",
    "msacol2pdbres = msacolumn2pdbresidue(msa, seq_id, pdb_code, pdb_chain, pfam_id, sifts_file)"
   ],
   "metadata": {},
   "execution_count": null
  },
  {
   "cell_type": "markdown",
   "source": [
    "This dictionary has the mapping between MSA column and PDB residue that allows\n",
    "the mapping between evolutionary and structural information. For example, to\n",
    "measure the correlation between entropy (related to residue variation in an\n",
    "MSA column) and the mean B factor of the residue:"
   ],
   "metadata": {}
  },
  {
   "outputs": [],
   "cell_type": "code",
   "source": [
    "using MIToS.Information\n",
    "Hx = mapcolfreq!(entropy,\n",
    "\t\t\t\t msa,\n",
    "\t\t\t\t Counts(ContingencyTable(Int, Val{1}, UngappedAlphabet())))"
   ],
   "metadata": {},
   "execution_count": null
  },
  {
   "cell_type": "markdown",
   "source": [
    "To get quick access to each PDB residue based on its residue number, we can\n",
    "read the PDB file into a dictionary using the `read` and `residuesdict`\n",
    "functions from the MIToS `PDB` module:"
   ],
   "metadata": {}
  },
  {
   "outputs": [],
   "cell_type": "code",
   "source": [
    "using MIToS.PDB\n",
    "res_dict = residuesdict(read(pdb_file, PDBFile, occupancyfilter=true), \"1\", \"A\") # model 1 chain A"
   ],
   "metadata": {},
   "execution_count": null
  },
  {
   "cell_type": "markdown",
   "source": [
    "Then, we can iterate the mapping dictionary to link the MSA and PDB based\n",
    "values:"
   ],
   "metadata": {}
  },
  {
   "outputs": [],
   "cell_type": "code",
   "source": [
    "using Statistics\n",
    "\n",
    "x = Float64[]\n",
    "y = Float64[]\n",
    "\n",
    "for (col_index, res_number) in msacol2pdbres\n",
    "\tif res_number != \"\" # i.e. MSA column has an associated PDB residue\n",
    "\t\tpush!(x, Hx[col_index])\n",
    "\t\tpush!(y, mean(parse(Float64, atom.B) for atom in res_dict[res_number].atoms))\n",
    "\tend\n",
    "end\n",
    "\n",
    "cor(x, y)"
   ],
   "metadata": {},
   "execution_count": null
  },
  {
   "cell_type": "markdown",
   "source": [
    "##  Unknown sequence coordinates\n",
    "\n",
    "While *Pfam* alignments have the start and end of the aligned region indicated\n",
    "in the sequence name, other multiple sequence alignments don't give any hint\n",
    "about that. In those cases, we should use pairwise alignments. However,\n",
    "instead of aligning the sequence coming from the MSA and the *PDB* sequence,\n",
    "we can align the MSA sequence to the *UniProt* sequence to reduce the\n",
    "possibility of mapping errors. Once we have the mapping of the MSA sequence\n",
    "to the *UniProt* sequence, we can use *SIFTS* to map the *PDB* sequence to\n",
    "the MSA sequence using the *UniProt* numeration.\n",
    "\n",
    "For this example, we are going to use the following files included in MIToS\n",
    "documentation:"
   ],
   "metadata": {}
  },
  {
   "outputs": [],
   "cell_type": "code",
   "source": [
    "using MIToS\n",
    "pdb_file   = abspath(pathof(MIToS), \"..\", \"..\", \"docs\", \"data\", \"1dur.pdb\")\n",
    "msa_file   = abspath(pathof(MIToS), \"..\", \"..\", \"docs\", \"data\", \"blast_alignment.fa\")\n",
    "sifts_file = abspath(pathof(MIToS), \"..\", \"..\", \"docs\", \"data\", \"1dur.xml.gz\")\n",
    "uniprot_file = abspath(pathof(MIToS), \"..\", \"..\", \"docs\", \"data\", \"P00193.fasta\")"
   ],
   "metadata": {},
   "execution_count": null
  },
  {
   "cell_type": "markdown",
   "source": [
    "First, we are going to read the MSA file. In this case, we can not use\n",
    "`useidcoordinates=true` because the sequence names don't have the sequence\n",
    "coordinates in the Pfam format. However, we are going to use\n",
    "`generatemapping=true` to get the default mapping for each sequence in the\n",
    "alignment (from `1` to the length of the aligned region):"
   ],
   "metadata": {}
  },
  {
   "outputs": [],
   "cell_type": "code",
   "source": [
    "using MIToS.MSA\n",
    "msa = read(msa_file, FASTA, generatemapping=true)"
   ],
   "metadata": {},
   "execution_count": null
  },
  {
   "cell_type": "markdown",
   "source": [
    "After that, we get the first sequence of the MSA, the one we know that\n",
    "corresponds to the PDB of interest. We need the sequence as a `String`\n",
    "without gaps (unaligned), so we use the `MIToS.MSA` `stringsequence` function\n",
    "together with `replace`:"
   ],
   "metadata": {}
  },
  {
   "outputs": [],
   "cell_type": "code",
   "source": [
    "msa_seq = replace(stringsequence(msa, 1), '-' => \"\")"
   ],
   "metadata": {},
   "execution_count": null
  },
  {
   "cell_type": "markdown",
   "source": [
    "Also, we are going to read the *UniProt* sequence. You can easily download the\n",
    "sequence from UniProt by doing:\n",
    "```julia\n",
    "using MIToS.Utils\n",
    "download_file(\"https://www.uniprot.org/uniprot/P00193.fasta\", \"P00193.fasta\")\n",
    "```\n",
    "To read the FASTA file we are going to use the `FastaIO` package:"
   ],
   "metadata": {}
  },
  {
   "outputs": [],
   "cell_type": "code",
   "source": [
    "using FastaIO\n",
    "uniprot_sequences = readfasta(uniprot_file)"
   ],
   "metadata": {},
   "execution_count": null
  },
  {
   "cell_type": "markdown",
   "source": [
    "And get the unique sequence:"
   ],
   "metadata": {}
  },
  {
   "outputs": [],
   "cell_type": "code",
   "source": [
    "uniprot_seq = uniprot_sequences[1][2]"
   ],
   "metadata": {},
   "execution_count": null
  },
  {
   "cell_type": "markdown",
   "source": [
    "We can perform a pairwise sequence alignment between both sequences by using\n",
    "the [`BioAlignments` package](https://github.com/BioJulia/BioAlignments.jl)\n",
    "from the *BioJulia* suite. In this case, we use a semi-global alignment\n",
    "(no start/end gap penalty) because we know that the MSA sequence is a region\n",
    "of the *UniProt* sequence."
   ],
   "metadata": {}
  },
  {
   "outputs": [],
   "cell_type": "code",
   "source": [
    "using BioAlignments\n",
    "costmodel = AffineGapScoreModel(BLOSUM62, gap_open=-10, gap_extend=-1)\n",
    "aln = pairalign(SemiGlobalAlignment(), msa_seq, uniprot_seq, costmodel)"
   ],
   "metadata": {},
   "execution_count": null
  },
  {
   "cell_type": "markdown",
   "source": [
    "Then, we only need to iterate the alignment to designate the positions and\n",
    "store the equivalences in a dictionary:"
   ],
   "metadata": {}
  },
  {
   "outputs": [],
   "cell_type": "code",
   "source": [
    "function seq2refnumber(aln)\n",
    "    seq_pos = 0\n",
    "\tref_pos = 0\n",
    "\tlast_seq_pos = 0\n",
    "\tseq2ref = Dict{Int,Int}()\n",
    "    for (seq_res, ref_res) in alignment(aln)\n",
    "        if seq_res != '-'\n",
    "            seq_pos += 1\n",
    "\t\tend\n",
    "        if ref_res != '-'\n",
    "            ref_pos += 1\n",
    "\t\tend\n",
    "\t\tif seq_pos != last_seq_pos\n",
    "\t\t\tseq2ref[seq_pos] = ref_pos\n",
    "\t\t\tlast_seq_pos = seq_pos\n",
    "    \tend\n",
    "\tend\n",
    "    seq2ref\n",
    "end\n",
    "\n",
    "seqnum2uniprotnum = seq2refnumber(aln)"
   ],
   "metadata": {},
   "execution_count": null
  },
  {
   "cell_type": "markdown",
   "source": [
    "Then, we can use `getsequencemapping` to go from MSA column number to\n",
    "*UniProt* residue, and `siftsmapping` to go from *UniProt* to *PDB*:"
   ],
   "metadata": {}
  },
  {
   "outputs": [],
   "cell_type": "code",
   "source": [
    "seqmap = getsequencemapping(msa, 1)"
   ],
   "metadata": {},
   "execution_count": null
  },
  {
   "cell_type": "markdown",
   "source": [
    "-"
   ],
   "metadata": {}
  },
  {
   "outputs": [],
   "cell_type": "code",
   "source": [
    "colnum2uniprotnum = Dict{Int,Int}()\n",
    "for (colnum, seqnum) in enumerate(seqmap)\n",
    "\tif seqnum != 0 # getsequencemapping returns 0 where there is a gap\n",
    "\t\tcolnum2uniprotnum[colnum] = seqnum2uniprotnum[seqnum]\n",
    "\tend\n",
    "end\n",
    "colnum2uniprotnum"
   ],
   "metadata": {},
   "execution_count": null
  },
  {
   "cell_type": "markdown",
   "source": [
    "-"
   ],
   "metadata": {}
  },
  {
   "outputs": [],
   "cell_type": "code",
   "source": [
    "using MIToS.SIFTS\n",
    "\n",
    "uniprotnum2pdbnum = siftsmapping(sifts_file,\n",
    "    dbUniProt,\n",
    "    \"P00193\",\n",
    "    dbPDB,\n",
    "    \"1dur\", # SIFTS stores PDB identifiers in lowercase\n",
    "    chain=\"A\",\n",
    "    missings=false) # residues without coordinates aren't used in the mapping"
   ],
   "metadata": {},
   "execution_count": null
  },
  {
   "cell_type": "markdown",
   "source": [
    "To finally get the dictionary from MSA column index to PDB residue number"
   ],
   "metadata": {}
  },
  {
   "outputs": [],
   "cell_type": "code",
   "source": [
    "colnum2pdbnum = Dict{Int,String}()\n",
    "for (colnum, uniprotnum) in colnum2uniprotnum\n",
    "\tpdbresnum = get(uniprotnum2pdbnum, string(uniprotnum), \"\")\n",
    "\tif pdbresnum != \"\"\n",
    "\t\tcolnum2pdbnum[colnum] = pdbresnum\n",
    "\tend\n",
    "end\n",
    "\n",
    "colnum2pdbnum"
   ],
   "metadata": {},
   "execution_count": null
  },
  {
   "cell_type": "markdown",
   "source": [
    "---\n",
    "\n",
    "*This notebook was generated using [Literate.jl](https://github.com/fredrikekre/Literate.jl).*"
   ],
   "metadata": {}
  }
 ],
 "nbformat_minor": 3,
 "metadata": {
  "language_info": {
   "file_extension": ".jl",
   "mimetype": "application/julia",
   "name": "julia",
   "version": "1.4.2"
  },
  "kernelspec": {
   "name": "julia-1.4",
   "display_name": "Julia 1.4.2",
   "language": "julia"
  }
 },
 "nbformat": 4
}
