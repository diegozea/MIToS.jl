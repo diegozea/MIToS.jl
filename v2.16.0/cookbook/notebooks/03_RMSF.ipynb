{
 "cells": [
  {
   "cell_type": "markdown",
   "source": [
    "# Root Mean Squared Fluctuation (RMSF)\n",
    "\n",
    "md # [![](https://mybinder.org/badge_logo.svg)](https://mybinder.org/v2/gh/diegozea/MIToS.jl/gh-pages?filepath=v2.16.0cookbook/notebooks/03_RMSF.ipynb)\n",
    "md # [![](https://img.shields.io/badge/show-nbviewer-579ACA.svg)](https://nbviewer.jupyter.org/github/diegozea/MIToS.jl/blob/gh-pages/v2.16.0cookbook/notebooks/03_RMSF.ipynb)\n",
    "\n",
    "\n",
    "## Problem description\n",
    "\n",
    "The [Root Mean Squared Fluctuation (RMSF)](https://en.wikipedia.org/wiki/Mean_squared_displacement)\n",
    "is a common way to measure residue flexibility in a structural ensemble.\n",
    "It is a measure of how far is the residue moving from its average position\n",
    "in the group of structures. Usually, we represent a residue position with\n",
    "the spatial coordinates of its alpha carbon.\n",
    "\n",
    "The protein structures should be previously superimposed to calculate the\n",
    "RMSF, for example, by using the `superimpose` function of the\n",
    "`PDB` module of `MIToS`. In this example, we are going\n",
    "to measure the RMSF of each residue from an NMR ensemble using the\n",
    "`rmsf` function.\n",
    "\n",
    "The structure superimposition could be the most complicated step of the\n",
    "process, depending on the input data. In particular, it structures come\n",
    "from different PDB structures or homologous proteins can require the use\n",
    "of external programs,\n",
    "as [MAMMOTH-mult](https://ub.cbm.uam.es/software/online/mamothmult.php) or\n",
    "[MUSTANG](https://lcb.infotech.monash.edu/mustang/) among others,\n",
    "tailored for this task.\n",
    "\n",
    "In this case, we are going to use an NMR ensemble. Therefore, we are not\n",
    "going to need to superimpose the structures as NMR models have the\n",
    "same protein sequence and are, usually, well-aligned.\n",
    "\n",
    "\n",
    "## MIToS solution"
   ],
   "metadata": {}
  },
  {
   "outputs": [],
   "cell_type": "code",
   "source": [
    "import MIToS\n",
    "using MIToS.PDB\n",
    "using Plots"
   ],
   "metadata": {},
   "execution_count": null
  },
  {
   "cell_type": "markdown",
   "source": [
    "Lets read the NMR ensemble:"
   ],
   "metadata": {}
  },
  {
   "outputs": [],
   "cell_type": "code",
   "source": [
    "pdb_file   = abspath(pathof(MIToS), \"..\", \"..\", \"test\", \"data\", \"1AS5.pdb\")\n",
    "pdb_res = read(pdb_file, PDBFile, occupancyfilter=true)"
   ],
   "metadata": {},
   "execution_count": null
  },
  {
   "cell_type": "markdown",
   "source": [
    "We set `occupancyfilter` to `true` to ensure that we have one single set of\n",
    "coordinates for each atom. That filter isn't essential for NMR structures,\n",
    "but It can avoid multiple alpha carbons in crystallographic structures with\n",
    "disordered atoms.\n",
    "We can get an idea of the alpha carbon positions by plotting these residues:"
   ],
   "metadata": {}
  },
  {
   "outputs": [],
   "cell_type": "code",
   "source": [
    "scatter(pdb_res, legend=false)"
   ],
   "metadata": {},
   "execution_count": null
  },
  {
   "cell_type": "markdown",
   "source": [
    "As we saw in the previous plot, the structure doesn't need to be\n",
    "superimposed. Now, we are going to separate each model into different\n",
    "vectors, storing each vector into a `Dict`:"
   ],
   "metadata": {}
  },
  {
   "outputs": [],
   "cell_type": "code",
   "source": [
    "models = Dict{String,Vector{PDBResidue}}()\n",
    "for res in pdb_res\n",
    "\tpush!(get!(models, res.id.model, []), res)\n",
    "end"
   ],
   "metadata": {},
   "execution_count": null
  },
  {
   "cell_type": "markdown",
   "source": [
    "Then, we simply need to collect all the PDB models in the values\n",
    "of the `Dict`, to get the vector of `PDBResidues` vectors required\n",
    "to calculate the RMSF."
   ],
   "metadata": {}
  },
  {
   "outputs": [],
   "cell_type": "code",
   "source": [
    "pdb_models = collect(values(models))"
   ],
   "metadata": {},
   "execution_count": null
  },
  {
   "cell_type": "markdown",
   "source": [
    "And, finally, call the `rmsf` function on the list of structures. It is\n",
    "important that all the vectors has the same number of `PDBResidue`s. This\n",
    "function assumes that the nth element of each vector corresponds to the same\n",
    "residue:"
   ],
   "metadata": {}
  },
  {
   "outputs": [],
   "cell_type": "code",
   "source": [
    "RMSF = rmsf(pdb_models)"
   ],
   "metadata": {},
   "execution_count": null
  },
  {
   "cell_type": "markdown",
   "source": [
    "This return the vector of RMSF values for each residue, calculated using\n",
    "the coordinates of the alpha carbons.\n",
    "You can plot this vector to get an idea of the which are the most flexible\n",
    "position in your structure:"
   ],
   "metadata": {}
  },
  {
   "outputs": [],
   "cell_type": "code",
   "source": [
    "plot(RMSF, legend=false, xlab=\"Residue\", ylab=\"RMSF [Å]\")"
   ],
   "metadata": {},
   "execution_count": null
  },
  {
   "cell_type": "markdown",
   "source": [
    "---\n",
    "\n",
    "*This notebook was generated using [Literate.jl](https://github.com/fredrikekre/Literate.jl).*"
   ],
   "metadata": {}
  }
 ],
 "nbformat_minor": 3,
 "metadata": {
  "language_info": {
   "file_extension": ".jl",
   "mimetype": "application/julia",
   "name": "julia",
   "version": "1.10.4"
  },
  "kernelspec": {
   "name": "julia-1.10",
   "display_name": "Julia 1.10.4",
   "language": "julia"
  }
 },
 "nbformat": 4
}
